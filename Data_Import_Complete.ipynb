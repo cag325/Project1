{
 "cells": [
  {
   "cell_type": "code",
   "execution_count": 8,
   "id": "b5359de6",
   "metadata": {},
   "outputs": [],
   "source": [
    "import numpy as np\n",
    "import pandas as pd\n",
    "import matplotlib.pyplot as plt\n",
    "\n",
    "df = pd.read_csv('Covid_Factors_Data.csv')\n",
    "# Import Population stats for 2020-2022\n",
    "Pop_2020 = df['POP_2020']\n",
    "Pop_2021 = df['POP_2021']\n",
    "Pop_2022 = df['POP_2022']\n",
    "\n",
    "# Reformat Population data\n",
    "df['POP_2020'] = df['POP_2020'].replace('-', np.nan)\n",
    "df['POP_2020'] = df['POP_2020'].astype(float)\n",
    "\n",
    "df['POP_2021'] = df['POP_2021'].replace('-', np.nan)\n",
    "df['POP_2021'] = df['POP_2021'].astype(float)\n",
    "\n",
    "df['POP_2022'] = df['POP_2022'].replace('-', np.nan)\n",
    "df['POP_2022'] = df['POP_2022'].astype(float)\n",
    "\n",
    "# Import College Education stats for 1980-2020\n",
    "ED_1980 = df['College ED. (1980)']\n",
    "ED_1990 = df['College ED. (1990)']\n",
    "ED_2000 = df['College ED. (2000)']\n",
    "ED_2010 = df['College ED. (2010)']\n",
    "ED_2020 = df['College ED. (2020)']\n",
    "\n",
    "# Reformat Education data\n",
    "df['College ED. (1980)'] = df['College ED. (1980)'].replace('-', np.nan)\n",
    "df['College ED. (1980)'] = df['College ED. (1980)'].astype(float)\n",
    "\n",
    "df['College ED. (1990)'] = df['College ED. (1990)'].replace('-', np.nan)\n",
    "df['College ED. (1990)'] = df['College ED. (1990)'].astype(float)\n",
    "\n",
    "df['College ED. (2000)'] = df['College ED. (2000)'].replace('-', np.nan)\n",
    "df['College ED. (2000)'] = df['College ED. (2000)'].astype(float)\n",
    "\n",
    "df['College ED. (2010)'] = df['College ED. (2010)'].replace('-', np.nan)\n",
    "df['College ED. (2010)'] = df['College ED. (2010)'].astype(float)\n",
    "\n",
    "df['College ED. (2020)'] = df['College ED. (2020)'].replace('-', np.nan)\n",
    "df['College ED. (2020)'] = df['College ED. (2020)'].astype(float)\n",
    "\n",
    "# Import Hospital Bed data\n",
    "Hos_Beds = df['Number of Beds']\n",
    "\n",
    "# Reformat Hospital Bed data\n",
    "df['Number of Beds'] = df['Number of Beds'].replace('-', np.nan)\n",
    "df['Number of Beds'] = df['Number of Beds'].astype(float)\n"
   ]
  },
  {
   "cell_type": "code",
   "execution_count": 13,
   "id": "a6a05281",
   "metadata": {},
   "outputs": [],
   "source": [
    "df_C19 = pd.read_csv('us-counties-2020.csv')\n",
    "\n",
    "# Collect data only for PA and OH Covid Deaths \n",
    "PA_deaths = df_C19[df_C19['state'] == 'Pennsylvania']['deaths']\n",
    "OH_deaths = df_C19[df_C19['state'] == 'Ohio']['deaths']\n",
    "\n",
    "\n"
   ]
  }
 ],
 "metadata": {
  "kernelspec": {
   "display_name": "Python 3 (ipykernel)",
   "language": "python",
   "name": "python3"
  },
  "language_info": {
   "codemirror_mode": {
    "name": "ipython",
    "version": 3
   },
   "file_extension": ".py",
   "mimetype": "text/x-python",
   "name": "python",
   "nbconvert_exporter": "python",
   "pygments_lexer": "ipython3",
   "version": "3.11.4"
  }
 },
 "nbformat": 4,
 "nbformat_minor": 5
}
